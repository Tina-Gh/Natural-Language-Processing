{
 "cells": [
  {
   "cell_type": "markdown",
   "id": "ea0c2561",
   "metadata": {},
   "source": [
    "### GPU access and Upload libraries:"
   ]
  },
  {
   "cell_type": "code",
   "execution_count": 1,
   "id": "ea6a5f72",
   "metadata": {},
   "outputs": [
    {
     "name": "stderr",
     "output_type": "stream",
     "text": [
      "2023-04-19 01:05:59.808327: I tensorflow/core/platform/cpu_feature_guard.cc:193] This TensorFlow binary is optimized with oneAPI Deep Neural Network Library (oneDNN) to use the following CPU instructions in performance-critical operations:  SSE4.1 SSE4.2 AVX AVX2 FMA\n",
      "To enable them in other operations, rebuild TensorFlow with the appropriate compiler flags.\n"
     ]
    }
   ],
   "source": [
    "#GPU:\n",
    "\n",
    "import os\n",
    "\n",
    "os.environ[\"CUDA_DEVICE_ORDER\"] = \"PCI_BUS_ID\"\n",
    "os.environ[\"CUDA_VISIBLE_DEVICES\"] = \"1\"\n",
    "\n",
    "import numpy as np\n",
    "import tensorflow as tf\n",
    "\n",
    "seed = 1\n",
    "\n",
    "np.random.seed(1)\n",
    "tf.random.set_seed(1)"
   ]
  },
  {
   "cell_type": "code",
   "execution_count": 2,
   "id": "8b1a10a3",
   "metadata": {},
   "outputs": [
    {
     "data": {
      "text/plain": [
       "True"
      ]
     },
     "execution_count": 2,
     "metadata": {},
     "output_type": "execute_result"
    }
   ],
   "source": [
    "import torch \n",
    "torch.cuda.is_available()"
   ]
  },
  {
   "cell_type": "code",
   "execution_count": 3,
   "id": "969d9047",
   "metadata": {},
   "outputs": [
    {
     "data": {
      "text/plain": [
       "0"
      ]
     },
     "execution_count": 3,
     "metadata": {},
     "output_type": "execute_result"
    }
   ],
   "source": [
    "torch.cuda.current_device()"
   ]
  },
  {
   "cell_type": "code",
   "execution_count": 4,
   "id": "ad3da017",
   "metadata": {},
   "outputs": [],
   "source": [
    "import numpy as np\n",
    "import pandas as pd\n",
    "import seaborn as sn\n",
    "import matplotlib.pyplot as plt\n",
    "from transformers import pipeline, set_seed\n",
    "import textwrap\n",
    "from pprint import pprint\n",
    "from sklearn.metrics import roc_auc_score, f1_score, confusion_matrix, accuracy_score\n",
    "from sklearn.model_selection import train_test_split"
   ]
  },
  {
   "cell_type": "markdown",
   "id": "ba2f225f",
   "metadata": {},
   "source": [
    "### The Model:"
   ]
  },
  {
   "cell_type": "code",
   "execution_count": 5,
   "id": "944bbb15",
   "metadata": {
    "scrolled": true
   },
   "outputs": [
    {
     "name": "stderr",
     "output_type": "stream",
     "text": [
      "No model was supplied, defaulted to distilbert-base-cased-distilled-squad and revision 626af31 (https://huggingface.co/distilbert-base-cased-distilled-squad).\n",
      "Using a pipeline without specifying a model name and revision in production is not recommended.\n"
     ]
    },
    {
     "data": {
      "application/vnd.jupyter.widget-view+json": {
       "model_id": "1a8241ebc2754b6db83e54ea6d28084a",
       "version_major": 2,
       "version_minor": 0
      },
      "text/plain": [
       "Downloading (…)lve/main/config.json:   0%|          | 0.00/473 [00:00<?, ?B/s]"
      ]
     },
     "metadata": {},
     "output_type": "display_data"
    },
    {
     "data": {
      "application/vnd.jupyter.widget-view+json": {
       "model_id": "b22c2bf5784e4cc086ab15ed43ea8572",
       "version_major": 2,
       "version_minor": 0
      },
      "text/plain": [
       "Downloading pytorch_model.bin:   0%|          | 0.00/261M [00:00<?, ?B/s]"
      ]
     },
     "metadata": {},
     "output_type": "display_data"
    },
    {
     "data": {
      "application/vnd.jupyter.widget-view+json": {
       "model_id": "fc1562b0d4a441b1a27634be62989f2b",
       "version_major": 2,
       "version_minor": 0
      },
      "text/plain": [
       "Downloading (…)okenizer_config.json:   0%|          | 0.00/29.0 [00:00<?, ?B/s]"
      ]
     },
     "metadata": {},
     "output_type": "display_data"
    },
    {
     "data": {
      "application/vnd.jupyter.widget-view+json": {
       "model_id": "3e9b6438ebf7493093a601b16538cd35",
       "version_major": 2,
       "version_minor": 0
      },
      "text/plain": [
       "Downloading (…)solve/main/vocab.txt:   0%|          | 0.00/213k [00:00<?, ?B/s]"
      ]
     },
     "metadata": {},
     "output_type": "display_data"
    },
    {
     "data": {
      "application/vnd.jupyter.widget-view+json": {
       "model_id": "f8caa79b89c64b9faf3399484fef75c2",
       "version_major": 2,
       "version_minor": 0
      },
      "text/plain": [
       "Downloading (…)/main/tokenizer.json:   0%|          | 0.00/436k [00:00<?, ?B/s]"
      ]
     },
     "metadata": {},
     "output_type": "display_data"
    }
   ],
   "source": [
    "qa = pipeline('question-answering')"
   ]
  },
  {
   "cell_type": "markdown",
   "id": "bc269243",
   "metadata": {},
   "source": [
    "### Some sample examples:"
   ]
  },
  {
   "cell_type": "code",
   "execution_count": 6,
   "id": "0b46c471",
   "metadata": {},
   "outputs": [],
   "source": [
    "#1\n",
    "\n",
    "context = \"Today, I went to the store to purchase a carton of milk\" \n",
    "question = \"What did I buy?\""
   ]
  },
  {
   "cell_type": "code",
   "execution_count": 7,
   "id": "7cc557f8",
   "metadata": {},
   "outputs": [
    {
     "data": {
      "text/plain": [
       "{'score': 0.7381108999252319,\n",
       " 'start': 39,\n",
       " 'end': 55,\n",
       " 'answer': 'a carton of milk'}"
      ]
     },
     "execution_count": 7,
     "metadata": {},
     "output_type": "execute_result"
    }
   ],
   "source": [
    "qa(context=context, question=question)"
   ]
  },
  {
   "cell_type": "code",
   "execution_count": 8,
   "id": "a8187d42",
   "metadata": {},
   "outputs": [
    {
     "data": {
      "text/plain": [
       "'a carton of milk'"
      ]
     },
     "execution_count": 8,
     "metadata": {},
     "output_type": "execute_result"
    }
   ],
   "source": [
    "context[39:55]"
   ]
  },
  {
   "cell_type": "code",
   "execution_count": 12,
   "id": "b883f72d",
   "metadata": {},
   "outputs": [
    {
     "data": {
      "text/plain": [
       "{'score': 0.9958471059799194, 'start': 30, 'end': 34, 'answer': 'blue'}"
      ]
     },
     "execution_count": 12,
     "metadata": {},
     "output_type": "execute_result"
    }
   ],
   "source": [
    "#2:\n",
    "\n",
    "context = 'Out of all the colors, I like blue the best.'\n",
    "question = 'What is my favorite color?'\n",
    "qa(context=context, question=question)"
   ]
  },
  {
   "cell_type": "code",
   "execution_count": 13,
   "id": "3f7ef0c6",
   "metadata": {},
   "outputs": [
    {
     "data": {
      "text/plain": [
       "{'score': 0.9511054754257202,\n",
       " 'start': 17,\n",
       " 'end': 30,\n",
       " 'answer': '14 March 1879'}"
      ]
     },
     "execution_count": 13,
     "metadata": {},
     "output_type": "execute_result"
    }
   ],
   "source": [
    "#3\n",
    "\n",
    "context = \"Albert Einstein (14 March 1879 – 18 April 1955) was a \" + \\\n",
    "  \"German-born theoretical physicist, widely acknowledged to be one of the \" + \\\n",
    "  \"greatest physicists of all time. Einstein is best known for developing \" + \\\n",
    "  \"the theory of relativity, but he also made important contributions to \" + \\\n",
    "  \"the development of the theory of quantum mechanics. Relativity and \" + \\\n",
    "  \"quantum mechanics are together the two pillars of modern physics.\"\n",
    "\n",
    "question = \"When was Albert Einstein born?\"\n",
    "qa(context=context, question=question)"
   ]
  },
  {
   "cell_type": "code",
   "execution_count": 14,
   "id": "2cd4a32e",
   "metadata": {},
   "outputs": [
    {
     "data": {
      "text/plain": [
       "{'score': 0.9473747611045837,\n",
       " 'start': 66,\n",
       " 'end': 87,\n",
       " 'answer': 'theoretical physicist'}"
      ]
     },
     "execution_count": 14,
     "metadata": {},
     "output_type": "execute_result"
    }
   ],
   "source": [
    "question = \"What was Albert Einstein's occupation?\"\n",
    "qa(context=context, question=question)"
   ]
  },
  {
   "cell_type": "code",
   "execution_count": 15,
   "id": "a62df272",
   "metadata": {},
   "outputs": [
    {
     "data": {
      "text/plain": [
       "{'score': 0.8471298813819885,\n",
       " 'start': 186,\n",
       " 'end': 221,\n",
       " 'answer': 'developing the theory of relativity'}"
      ]
     },
     "execution_count": 15,
     "metadata": {},
     "output_type": "execute_result"
    }
   ],
   "source": [
    "question = \"What is Albert Einstein best known for?\"\n",
    "qa(context=context, question=question)"
   ]
  },
  {
   "cell_type": "code",
   "execution_count": 16,
   "id": "feb941d0",
   "metadata": {},
   "outputs": [
    {
     "data": {
      "text/plain": [
       "{'score': 0.282605916261673,\n",
       " 'start': 290,\n",
       " 'end': 317,\n",
       " 'answer': 'theory of quantum mechanics'}"
      ]
     },
     "execution_count": 16,
     "metadata": {},
     "output_type": "execute_result"
    }
   ],
   "source": [
    "question = \"What else has Albert Einstein contributed to?\"\n",
    "qa(context=context, question=question)"
   ]
  },
  {
   "cell_type": "code",
   "execution_count": 17,
   "id": "25a974a2",
   "metadata": {},
   "outputs": [
    {
     "data": {
      "text/plain": [
       "{'score': 0.9952630400657654,\n",
       " 'start': 319,\n",
       " 'end': 351,\n",
       " 'answer': 'Relativity and quantum mechanics'}"
      ]
     },
     "execution_count": 17,
     "metadata": {},
     "output_type": "execute_result"
    }
   ],
   "source": [
    "question = \"What are the two pillars of modern physics?\"\n",
    "qa(context=context, question=question)"
   ]
  },
  {
   "cell_type": "code",
   "execution_count": 18,
   "id": "28aa4ce2",
   "metadata": {},
   "outputs": [
    {
     "data": {
      "text/plain": [
       "{'score': 0.994666337966919, 'start': 54, 'end': 60, 'answer': 'German'}"
      ]
     },
     "execution_count": 18,
     "metadata": {},
     "output_type": "execute_result"
    }
   ],
   "source": [
    "question = \"Where was Albert Einstein born?\"\n",
    "qa(context=context, question=question)"
   ]
  },
  {
   "cell_type": "code",
   "execution_count": 19,
   "id": "d7150ddb",
   "metadata": {},
   "outputs": [
    {
     "data": {
      "text/plain": [
       "{'score': 0.0024855490773916245,\n",
       " 'start': 0,\n",
       " 'end': 15,\n",
       " 'answer': 'Albert Einstein'}"
      ]
     },
     "execution_count": 19,
     "metadata": {},
     "output_type": "execute_result"
    }
   ],
   "source": [
    "question = \"What is peanut butter made of?\"\n",
    "qa(context=context, question=question)\n",
    "\n",
    "#As can be seen above, the model cannot answer a question that is unrelated/unavailable in the context. "
   ]
  },
  {
   "cell_type": "code",
   "execution_count": null,
   "id": "a872f466",
   "metadata": {},
   "outputs": [],
   "source": []
  }
 ],
 "metadata": {
  "kernelspec": {
   "display_name": "Python 3 (ipykernel)",
   "language": "python",
   "name": "python3"
  },
  "language_info": {
   "codemirror_mode": {
    "name": "ipython",
    "version": 3
   },
   "file_extension": ".py",
   "mimetype": "text/x-python",
   "name": "python",
   "nbconvert_exporter": "python",
   "pygments_lexer": "ipython3",
   "version": "3.9.4"
  }
 },
 "nbformat": 4,
 "nbformat_minor": 5
}
