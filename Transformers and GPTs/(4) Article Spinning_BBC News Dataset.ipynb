{
 "cells": [
  {
   "cell_type": "markdown",
   "id": "f83edd9e",
   "metadata": {},
   "source": [
    "### GPU access and Upload libraries:"
   ]
  },
  {
   "cell_type": "code",
   "execution_count": 1,
   "id": "4b380b85",
   "metadata": {},
   "outputs": [
    {
     "name": "stderr",
     "output_type": "stream",
     "text": [
      "2023-04-17 23:06:55.914682: I tensorflow/core/platform/cpu_feature_guard.cc:193] This TensorFlow binary is optimized with oneAPI Deep Neural Network Library (oneDNN) to use the following CPU instructions in performance-critical operations:  SSE4.1 SSE4.2 AVX AVX2 FMA\n",
      "To enable them in other operations, rebuild TensorFlow with the appropriate compiler flags.\n"
     ]
    }
   ],
   "source": [
    "#GPU:\n",
    "\n",
    "import os\n",
    "\n",
    "os.environ[\"CUDA_DEVICE_ORDER\"] = \"PCI_BUS_ID\"\n",
    "os.environ[\"CUDA_VISIBLE_DEVICES\"] = \"1\"\n",
    "\n",
    "import numpy as np\n",
    "import tensorflow as tf\n",
    "\n",
    "seed = 1\n",
    "\n",
    "np.random.seed(1)\n",
    "tf.random.set_seed(1)"
   ]
  },
  {
   "cell_type": "code",
   "execution_count": 2,
   "id": "f3f957b5",
   "metadata": {},
   "outputs": [
    {
     "data": {
      "text/plain": [
       "True"
      ]
     },
     "execution_count": 2,
     "metadata": {},
     "output_type": "execute_result"
    }
   ],
   "source": [
    "import torch \n",
    "torch.cuda.is_available()"
   ]
  },
  {
   "cell_type": "code",
   "execution_count": 3,
   "id": "85494131",
   "metadata": {},
   "outputs": [
    {
     "data": {
      "text/plain": [
       "0"
      ]
     },
     "execution_count": 3,
     "metadata": {},
     "output_type": "execute_result"
    }
   ],
   "source": [
    "torch.cuda.current_device()"
   ]
  },
  {
   "cell_type": "code",
   "execution_count": 4,
   "id": "08d824f8",
   "metadata": {},
   "outputs": [],
   "source": [
    "import numpy as np\n",
    "import pandas as pd\n",
    "import seaborn as sn\n",
    "import matplotlib.pyplot as plt\n",
    "from transformers import pipeline, set_seed\n",
    "import textwrap\n",
    "from pprint import pprint\n",
    "from sklearn.metrics import roc_auc_score, f1_score, confusion_matrix, accuracy_score\n",
    "from sklearn.model_selection import train_test_split"
   ]
  },
  {
   "cell_type": "markdown",
   "id": "5993fc8e",
   "metadata": {},
   "source": [
    "### Download the Dataset:"
   ]
  },
  {
   "cell_type": "code",
   "execution_count": 5,
   "id": "60bbe016",
   "metadata": {},
   "outputs": [
    {
     "name": "stdout",
     "output_type": "stream",
     "text": [
      "--2023-04-17 23:07:20--  https://lazyprogrammer.me/course_files/nlp/bbc_text_cls.csv\n",
      "Resolving lazyprogrammer.me (lazyprogrammer.me)... 172.64.80.1, 2606:4700:130:436c:6f75:6466:6c61:7265\n",
      "Connecting to lazyprogrammer.me (lazyprogrammer.me)|172.64.80.1|:443... connected.\n",
      "HTTP request sent, awaiting response... 200 OK\n",
      "Length: 5085081 (4.8M) [text/csv]\n",
      "Saving to: ‘bbc_text_cls.csv’\n",
      "\n",
      "bbc_text_cls.csv    100%[===================>]   4.85M  2.11MB/s    in 2.3s    \n",
      "\n",
      "2023-04-17 23:07:23 (2.11 MB/s) - ‘bbc_text_cls.csv’ saved [5085081/5085081]\n",
      "\n"
     ]
    }
   ],
   "source": [
    "!wget -nc https://lazyprogrammer.me/course_files/nlp/bbc_text_cls.csv"
   ]
  },
  {
   "cell_type": "code",
   "execution_count": 6,
   "id": "459e2dec",
   "metadata": {},
   "outputs": [
    {
     "data": {
      "text/html": [
       "<div>\n",
       "<style scoped>\n",
       "    .dataframe tbody tr th:only-of-type {\n",
       "        vertical-align: middle;\n",
       "    }\n",
       "\n",
       "    .dataframe tbody tr th {\n",
       "        vertical-align: top;\n",
       "    }\n",
       "\n",
       "    .dataframe thead th {\n",
       "        text-align: right;\n",
       "    }\n",
       "</style>\n",
       "<table border=\"1\" class=\"dataframe\">\n",
       "  <thead>\n",
       "    <tr style=\"text-align: right;\">\n",
       "      <th></th>\n",
       "      <th>text</th>\n",
       "      <th>labels</th>\n",
       "    </tr>\n",
       "  </thead>\n",
       "  <tbody>\n",
       "    <tr>\n",
       "      <th>0</th>\n",
       "      <td>Ad sales boost Time Warner profit\\n\\nQuarterly...</td>\n",
       "      <td>business</td>\n",
       "    </tr>\n",
       "    <tr>\n",
       "      <th>1</th>\n",
       "      <td>Dollar gains on Greenspan speech\\n\\nThe dollar...</td>\n",
       "      <td>business</td>\n",
       "    </tr>\n",
       "    <tr>\n",
       "      <th>2</th>\n",
       "      <td>Yukos unit buyer faces loan claim\\n\\nThe owner...</td>\n",
       "      <td>business</td>\n",
       "    </tr>\n",
       "    <tr>\n",
       "      <th>3</th>\n",
       "      <td>High fuel prices hit BA's profits\\n\\nBritish A...</td>\n",
       "      <td>business</td>\n",
       "    </tr>\n",
       "    <tr>\n",
       "      <th>4</th>\n",
       "      <td>Pernod takeover talk lifts Domecq\\n\\nShares in...</td>\n",
       "      <td>business</td>\n",
       "    </tr>\n",
       "  </tbody>\n",
       "</table>\n",
       "</div>"
      ],
      "text/plain": [
       "                                                text    labels\n",
       "0  Ad sales boost Time Warner profit\\n\\nQuarterly...  business\n",
       "1  Dollar gains on Greenspan speech\\n\\nThe dollar...  business\n",
       "2  Yukos unit buyer faces loan claim\\n\\nThe owner...  business\n",
       "3  High fuel prices hit BA's profits\\n\\nBritish A...  business\n",
       "4  Pernod takeover talk lifts Domecq\\n\\nShares in...  business"
      ]
     },
     "execution_count": 6,
     "metadata": {},
     "output_type": "execute_result"
    }
   ],
   "source": [
    "df = pd.read_csv('bbc_text_cls.csv')\n",
    "df.head()"
   ]
  },
  {
   "cell_type": "code",
   "execution_count": 9,
   "id": "73d769c9",
   "metadata": {},
   "outputs": [
    {
     "data": {
      "text/plain": [
       "array(['business', 'entertainment', 'politics', 'sport', 'tech'],\n",
       "      dtype=object)"
      ]
     },
     "execution_count": 9,
     "metadata": {},
     "output_type": "execute_result"
    }
   ],
   "source": [
    "labels = df['labels']\n",
    "labels.unique() #or: set(df['labels'])"
   ]
  },
  {
   "cell_type": "code",
   "execution_count": 12,
   "id": "823b5446",
   "metadata": {},
   "outputs": [
    {
     "data": {
      "text/plain": [
       "0    Ad sales boost Time Warner profit\\n\\nQuarterly...\n",
       "1    Dollar gains on Greenspan speech\\n\\nThe dollar...\n",
       "2    Yukos unit buyer faces loan claim\\n\\nThe owner...\n",
       "3    High fuel prices hit BA's profits\\n\\nBritish A...\n",
       "4    Pernod takeover talk lifts Domecq\\n\\nShares in...\n",
       "Name: text, dtype: object"
      ]
     },
     "execution_count": 12,
     "metadata": {},
     "output_type": "execute_result"
    }
   ],
   "source": [
    "#pick a label:\n",
    "label = 'business'\n",
    "texts = df[df['labels'] == label]['text']\n",
    "texts.head()"
   ]
  },
  {
   "cell_type": "code",
   "execution_count": 13,
   "id": "7eaf2475",
   "metadata": {},
   "outputs": [
    {
     "data": {
      "text/plain": [
       "510"
      ]
     },
     "execution_count": 13,
     "metadata": {},
     "output_type": "execute_result"
    }
   ],
   "source": [
    "len(texts)"
   ]
  },
  {
   "cell_type": "markdown",
   "id": "c243d714",
   "metadata": {},
   "source": [
    "### choose a text from the data:"
   ]
  },
  {
   "cell_type": "code",
   "execution_count": 26,
   "id": "9faf3a33",
   "metadata": {},
   "outputs": [
    {
     "name": "stdout",
     "output_type": "stream",
     "text": [
      "Bombardier chief to leave company\n",
      "\n",
      "Shares in train and plane-making\n",
      "giant Bombardier have fallen to a 10-year low following the departure\n",
      "of its chief executive and two members of the board.\n",
      "\n",
      "Paul Tellier,\n",
      "who was also Bombardier's president, left the company amid an ongoing\n",
      "restructuring.  Laurent Beaudoin, part of the family that controls the\n",
      "Montreal-based firm, will take on the role of CEO under a newly\n",
      "created management structure.  Analysts said the resignations seem to\n",
      "have stemmed from a boardroom dispute.  Under Mr Tellier's tenure at\n",
      "the company, which began in January 2003, plans to cut the worldwide\n",
      "workforce of 75,000 by almost a third by 2006 were announced.  The\n",
      "firm's snowmobile division and defence services unit were also sold\n",
      "and Bombardier started the development of a new aircraft seating 110\n",
      "to 135 passengers.\n",
      "\n",
      "Mr Tellier had indicated he wanted to stay at the\n",
      "world's top train maker and third largest manufacturer of civil\n",
      "aircraft until the restructuring was complete.  But Bombardier has\n",
      "been faced with a declining share price and profits.  Earlier this\n",
      "month the firm said it earned $10m (£19.2m) in the third quarter, down\n",
      "from a profit of $133m a year ago.  \"I understand the board's concern\n",
      "that I would not be there for the long-term and the need to develop\n",
      "and execute strategies, and the need to reshape the management\n",
      "structure at this time,\" Mr Tellier said in a statement on Monday.\n",
      "Bombardier said restructuring plans drawn up by Mr Tellier's would\n",
      "continue to be implemented.  Shares in Bombardier lost 65 Canadian\n",
      "cents or 25% on the news to 1.90 Canadian dollars before rallying to\n",
      "2.20 Canadian dollars.\n"
     ]
    }
   ],
   "source": [
    "np.random.seed(1234)\n",
    "random_num = np.random.choice(len(texts))\n",
    "doc =texts[random_num]\n",
    "\n",
    "print(textwrap.fill(doc, replace_whitespace = False, fix_sentence_endings= True))"
   ]
  },
  {
   "cell_type": "markdown",
   "id": "fdb0a052",
   "metadata": {},
   "source": [
    "### Model Pipeline:"
   ]
  },
  {
   "cell_type": "code",
   "execution_count": 27,
   "id": "f487f764",
   "metadata": {},
   "outputs": [
    {
     "name": "stderr",
     "output_type": "stream",
     "text": [
      "No model was supplied, defaulted to distilroberta-base and revision ec58a5b (https://huggingface.co/distilroberta-base).\n",
      "Using a pipeline without specifying a model name and revision in production is not recommended.\n"
     ]
    },
    {
     "data": {
      "application/vnd.jupyter.widget-view+json": {
       "model_id": "cc980c1a129c4580aa588b098be55e49",
       "version_major": 2,
       "version_minor": 0
      },
      "text/plain": [
       "Downloading (…)lve/main/config.json:   0%|          | 0.00/480 [00:00<?, ?B/s]"
      ]
     },
     "metadata": {},
     "output_type": "display_data"
    },
    {
     "data": {
      "application/vnd.jupyter.widget-view+json": {
       "model_id": "df6f4c7eafd441a2a3317af771c32f53",
       "version_major": 2,
       "version_minor": 0
      },
      "text/plain": [
       "Downloading pytorch_model.bin:   0%|          | 0.00/331M [00:00<?, ?B/s]"
      ]
     },
     "metadata": {},
     "output_type": "display_data"
    },
    {
     "data": {
      "application/vnd.jupyter.widget-view+json": {
       "model_id": "b6d9fd251bd94e818cfc91155b4e9a10",
       "version_major": 2,
       "version_minor": 0
      },
      "text/plain": [
       "Downloading (…)olve/main/vocab.json:   0%|          | 0.00/899k [00:00<?, ?B/s]"
      ]
     },
     "metadata": {},
     "output_type": "display_data"
    },
    {
     "data": {
      "application/vnd.jupyter.widget-view+json": {
       "model_id": "65cbb583a5e645dea36e7a9739c30abf",
       "version_major": 2,
       "version_minor": 0
      },
      "text/plain": [
       "Downloading (…)olve/main/merges.txt:   0%|          | 0.00/456k [00:00<?, ?B/s]"
      ]
     },
     "metadata": {},
     "output_type": "display_data"
    },
    {
     "data": {
      "application/vnd.jupyter.widget-view+json": {
       "model_id": "1ec7a89511174462bbdad060a9c9c3a6",
       "version_major": 2,
       "version_minor": 0
      },
      "text/plain": [
       "Downloading (…)/main/tokenizer.json:   0%|          | 0.00/1.36M [00:00<?, ?B/s]"
      ]
     },
     "metadata": {},
     "output_type": "display_data"
    }
   ],
   "source": [
    "mlm = pipeline('fill-mask')"
   ]
  },
  {
   "cell_type": "code",
   "execution_count": 28,
   "id": "59c5350c",
   "metadata": {},
   "outputs": [
    {
     "data": {
      "text/plain": [
       "[{'score': 0.06950805336236954,\n",
       "  'token': 633,\n",
       "  'token_str': ' job',\n",
       "  'sequence': 'Bombardier chief to leave job'},\n",
       " {'score': 0.06693065166473389,\n",
       "  'token': 1470,\n",
       "  'token_str': ' France',\n",
       "  'sequence': 'Bombardier chief to leave France'},\n",
       " {'score': 0.052735358476638794,\n",
       "  'token': 558,\n",
       "  'token_str': ' office',\n",
       "  'sequence': 'Bombardier chief to leave office'},\n",
       " {'score': 0.025822972878813744,\n",
       "  'token': 2201,\n",
       "  'token_str': ' Paris',\n",
       "  'sequence': 'Bombardier chief to leave Paris'},\n",
       " {'score': 0.02136850729584694,\n",
       "  'token': 896,\n",
       "  'token_str': ' Canada',\n",
       "  'sequence': 'Bombardier chief to leave Canada'}]"
      ]
     },
     "execution_count": 28,
     "metadata": {},
     "output_type": "execute_result"
    }
   ],
   "source": [
    "#wexample using the first sentence in teh article:\n",
    "mlm('Bombardier chief to leave <mask>')\n",
    "\n",
    "#As can be seen below, "
   ]
  },
  {
   "cell_type": "code",
   "execution_count": 29,
   "id": "d0d5f825",
   "metadata": {},
   "outputs": [
    {
     "data": {
      "text/plain": [
       "[{'score': 0.6640951633453369,\n",
       "  'token': 11016,\n",
       "  'token_str': ' Airbus',\n",
       "  'sequence': 'Shares in Airbus and plane-making giant Bombardier have fallen to a 10-year low following the departure of its chief executive and two members of the board.'},\n",
       " {'score': 0.26146647334098816,\n",
       "  'token': 6722,\n",
       "  'token_str': ' Boeing',\n",
       "  'sequence': 'Shares in Boeing and plane-making giant Bombardier have fallen to a 10-year low following the departure of its chief executive and two members of the board.'},\n",
       " {'score': 0.02363526076078415,\n",
       "  'token': 15064,\n",
       "  'token_str': ' aerospace',\n",
       "  'sequence': 'Shares in aerospace and plane-making giant Bombardier have fallen to a 10-year low following the departure of its chief executive and two members of the board.'},\n",
       " {'score': 0.014581801369786263,\n",
       "  'token': 8537,\n",
       "  'token_str': ' airlines',\n",
       "  'sequence': 'Shares in airlines and plane-making giant Bombardier have fallen to a 10-year low following the departure of its chief executive and two members of the board.'},\n",
       " {'score': 0.005284301936626434,\n",
       "  'token': 9848,\n",
       "  'token_str': ' aviation',\n",
       "  'sequence': 'Shares in aviation and plane-making giant Bombardier have fallen to a 10-year low following the departure of its chief executive and two members of the board.'}]"
      ]
     },
     "execution_count": 29,
     "metadata": {},
     "output_type": "execute_result"
    }
   ],
   "source": [
    "#now trying the second sentence:\n",
    "sample_text = 'Shares in <mask> and plane-making' + \\\n",
    "' giant Bombardier have fallen to a 10-year low following the departure' + \\\n",
    "' of its chief executive and two members of the board.'\n",
    "\n",
    "mlm(sample_text)"
   ]
  },
  {
   "cell_type": "code",
   "execution_count": 30,
   "id": "45b01ec4",
   "metadata": {},
   "outputs": [
    {
     "data": {
      "text/plain": [
       "[{'score': 0.5513929724693298,\n",
       "  'token': 6985,\n",
       "  'token_str': ' resignation',\n",
       "  'sequence': 'Shares in train and plane-making giant Bombardier have fallen to a 10-year low following the resignation of its chief executive and two members of the board.'},\n",
       " {'score': 0.21090449392795563,\n",
       "  'token': 5824,\n",
       "  'token_str': ' departure',\n",
       "  'sequence': 'Shares in train and plane-making giant Bombardier have fallen to a 10-year low following the departure of its chief executive and two members of the board.'},\n",
       " {'score': 0.13041989505290985,\n",
       "  'token': 25624,\n",
       "  'token_str': ' departures',\n",
       "  'sequence': 'Shares in train and plane-making giant Bombardier have fallen to a 10-year low following the departures of its chief executive and two members of the board.'},\n",
       " {'score': 0.03651538863778114,\n",
       "  'token': 14289,\n",
       "  'token_str': ' dismissal',\n",
       "  'sequence': 'Shares in train and plane-making giant Bombardier have fallen to a 10-year low following the dismissal of its chief executive and two members of the board.'},\n",
       " {'score': 0.014638736844062805,\n",
       "  'token': 5834,\n",
       "  'token_str': ' firing',\n",
       "  'sequence': 'Shares in train and plane-making giant Bombardier have fallen to a 10-year low following the firing of its chief executive and two members of the board.'}]"
      ]
     },
     "execution_count": 30,
     "metadata": {},
     "output_type": "execute_result"
    }
   ],
   "source": [
    "sample_text = 'Shares in train and plane-making' + \\\n",
    "' giant Bombardier have fallen to a 10-year low following the <mask>' + \\\n",
    "' of its chief executive and two members of the board.'\n",
    "\n",
    "mlm(sample_text)"
   ]
  },
  {
   "cell_type": "code",
   "execution_count": 32,
   "id": "2c3e75a1",
   "metadata": {},
   "outputs": [
    {
     "data": {
      "text/plain": [
       "[[{'score': 0.5393301248550415,\n",
       "   'token': 6985,\n",
       "   'token_str': ' resignation',\n",
       "   'sequence': '<s>Shares in train and plane-making giant Bombardier have fallen to a 10-year low following the resignation of its chief<mask> and two members of the board.</s>'},\n",
       "  {'score': 0.21120430529117584,\n",
       "   'token': 5824,\n",
       "   'token_str': ' departure',\n",
       "   'sequence': '<s>Shares in train and plane-making giant Bombardier have fallen to a 10-year low following the departure of its chief<mask> and two members of the board.</s>'},\n",
       "  {'score': 0.1283741295337677,\n",
       "   'token': 25624,\n",
       "   'token_str': ' departures',\n",
       "   'sequence': '<s>Shares in train and plane-making giant Bombardier have fallen to a 10-year low following the departures of its chief<mask> and two members of the board.</s>'},\n",
       "  {'score': 0.0430813804268837,\n",
       "   'token': 14289,\n",
       "   'token_str': ' dismissal',\n",
       "   'sequence': '<s>Shares in train and plane-making giant Bombardier have fallen to a 10-year low following the dismissal of its chief<mask> and two members of the board.</s>'},\n",
       "  {'score': 0.014899009838700294,\n",
       "   'token': 5834,\n",
       "   'token_str': ' firing',\n",
       "   'sequence': '<s>Shares in train and plane-making giant Bombardier have fallen to a 10-year low following the firing of its chief<mask> and two members of the board.</s>'}],\n",
       " [{'score': 0.9794824719429016,\n",
       "   'token': 1031,\n",
       "   'token_str': ' executive',\n",
       "   'sequence': '<s>Shares in train and plane-making giant Bombardier have fallen to a 10-year low following the<mask> of its chief executive and two members of the board.</s>'},\n",
       "  {'score': 0.017029255628585815,\n",
       "   'token': 4585,\n",
       "   'token_str': ' executives',\n",
       "   'sequence': '<s>Shares in train and plane-making giant Bombardier have fallen to a 10-year low following the<mask> of its chief executives and two members of the board.</s>'},\n",
       "  {'score': 0.0014964729780331254,\n",
       "   'token': 7473,\n",
       "   'token_str': ' economist',\n",
       "   'sequence': '<s>Shares in train and plane-making giant Bombardier have fallen to a 10-year low following the<mask> of its chief economist and two members of the board.</s>'},\n",
       "  {'score': 0.0006117977318353951,\n",
       "   'token': 1036,\n",
       "   'token_str': ' officer',\n",
       "   'sequence': '<s>Shares in train and plane-making giant Bombardier have fallen to a 10-year low following the<mask> of its chief officer and two members of the board.</s>'},\n",
       "  {'score': 0.00030740772490389645,\n",
       "   'token': 8083,\n",
       "   'token_str': ' engineer',\n",
       "   'sequence': '<s>Shares in train and plane-making giant Bombardier have fallen to a 10-year low following the<mask> of its chief engineer and two members of the board.</s>'}]]"
      ]
     },
     "execution_count": 32,
     "metadata": {},
     "output_type": "execute_result"
    }
   ],
   "source": [
    "sample_text = 'Shares in train and plane-making' + \\\n",
    "' giant Bombardier have fallen to a 10-year low following the <mask>' + \\\n",
    "' of its chief <mask> and two members of the board.'\n",
    "\n",
    "mlm(sample_text)"
   ]
  },
  {
   "cell_type": "code",
   "execution_count": 33,
   "id": "b4d129a1",
   "metadata": {},
   "outputs": [
    {
     "data": {
      "text/plain": [
       "[[{'score': 0.6555726528167725,\n",
       "   'token': 6985,\n",
       "   'token_str': ' resignation',\n",
       "   'sequence': '<s>Shares in train and plane-making giant Bombardier have fallen to a 10-year low following the resignation of its chief executive and two<mask> of the board.</s>'},\n",
       "  {'score': 0.14694833755493164,\n",
       "   'token': 5824,\n",
       "   'token_str': ' departure',\n",
       "   'sequence': '<s>Shares in train and plane-making giant Bombardier have fallen to a 10-year low following the departure of its chief executive and two<mask> of the board.</s>'},\n",
       "  {'score': 0.08734627068042755,\n",
       "   'token': 25624,\n",
       "   'token_str': ' departures',\n",
       "   'sequence': '<s>Shares in train and plane-making giant Bombardier have fallen to a 10-year low following the departures of its chief executive and two<mask> of the board.</s>'},\n",
       "  {'score': 0.04610442742705345,\n",
       "   'token': 14289,\n",
       "   'token_str': ' dismissal',\n",
       "   'sequence': '<s>Shares in train and plane-making giant Bombardier have fallen to a 10-year low following the dismissal of its chief executive and two<mask> of the board.</s>'},\n",
       "  {'score': 0.012414472177624702,\n",
       "   'token': 5834,\n",
       "   'token_str': ' firing',\n",
       "   'sequence': '<s>Shares in train and plane-making giant Bombardier have fallen to a 10-year low following the firing of its chief executive and two<mask> of the board.</s>'}],\n",
       " [{'score': 0.8919828534126282,\n",
       "   'token': 453,\n",
       "   'token_str': ' members',\n",
       "   'sequence': '<s>Shares in train and plane-making giant Bombardier have fallen to a 10-year low following the<mask> of its chief executive and two members of the board.</s>'},\n",
       "  {'score': 0.05123533308506012,\n",
       "   'token': 29193,\n",
       "   'token_str': ' thirds',\n",
       "   'sequence': '<s>Shares in train and plane-making giant Bombardier have fallen to a 10-year low following the<mask> of its chief executive and two thirds of the board.</s>'},\n",
       "  {'score': 0.02809436060488224,\n",
       "   'token': 5392,\n",
       "   'token_str': ' directors',\n",
       "   'sequence': '<s>Shares in train and plane-making giant Bombardier have fallen to a 10-year low following the<mask> of its chief executive and two directors of the board.</s>'},\n",
       "  {'score': 0.006111920811235905,\n",
       "   'token': 10826,\n",
       "   'token_str': ' chairs',\n",
       "   'sequence': '<s>Shares in train and plane-making giant Bombardier have fallen to a 10-year low following the<mask> of its chief executive and two chairs of the board.</s>'},\n",
       "  {'score': 0.00401918962597847,\n",
       "   'token': 9751,\n",
       "   'token_str': ' presidents',\n",
       "   'sequence': '<s>Shares in train and plane-making giant Bombardier have fallen to a 10-year low following the<mask> of its chief executive and two presidents of the board.</s>'}]]"
      ]
     },
     "execution_count": 33,
     "metadata": {},
     "output_type": "execute_result"
    }
   ],
   "source": [
    "sample_text = 'Shares in train and plane-making' + \\\n",
    "' giant Bombardier have fallen to a 10-year low following the departure' + \\\n",
    "' of its chief executive and two <mask> of the board.'\n",
    "\n",
    "mlm(sample_text)"
   ]
  },
  {
   "cell_type": "markdown",
   "id": "a8386bc2",
   "metadata": {},
   "source": [
    "### Now, writing a function to do the article spanning for us:"
   ]
  },
  {
   "cell_type": "code",
   "execution_count": 92,
   "id": "e96c662b",
   "metadata": {},
   "outputs": [],
   "source": [
    "def article_spinner(text):\n",
    "    #finding the best new word:\n",
    "    lst_new_words = mlm(text)    \n",
    "    token_str = lst_new_words[0]['token_str']\n",
    "#In case there are more than one <mask>s in the text:\n",
    "#     max_score = 0\n",
    "#     token_str = ''\n",
    "#     for i in range(len(lst_new_words)):\n",
    "#         if lst_new_words[i][0]['score'] > max_score: #0: because we know it is always the first item in each list that has the max score as it is sorted already.\n",
    "#             max_score = lst_new_words[i][0]['score']\n",
    "#             token_str = lst_new_words[i][0]['token_str']\n",
    "    #replacing the mask with the best new word:\n",
    "    index_mask = text.find('<mask>') \n",
    "    before_mask = text[:index_mask-1]\n",
    "    after_mask = text[index_mask+len('<mask>'):]\n",
    "    new_text = before_mask + token_str + after_mask\n",
    "    return new_text "
   ]
  },
  {
   "cell_type": "code",
   "execution_count": 93,
   "id": "8110610c",
   "metadata": {},
   "outputs": [
    {
     "data": {
      "text/plain": [
       "'Shares in train and plane-making giant Bombardier have fallen to a 10-year low following the departure of its chief executive and two members of the board.'"
      ]
     },
     "execution_count": 93,
     "metadata": {},
     "output_type": "execute_result"
    }
   ],
   "source": [
    "sample_text = 'Shares in train and plane-making' + \\\n",
    "' giant Bombardier have fallen to a 10-year low following the departure' + \\\n",
    "' of its chief executive and two <mask> of the board.'\n",
    "\n",
    "\n",
    "result_ = article_spinner(sample_text)\n",
    "result_"
   ]
  },
  {
   "cell_type": "code",
   "execution_count": null,
   "id": "48bbd1cb",
   "metadata": {},
   "outputs": [],
   "source": []
  }
 ],
 "metadata": {
  "kernelspec": {
   "display_name": "Python 3 (ipykernel)",
   "language": "python",
   "name": "python3"
  },
  "language_info": {
   "codemirror_mode": {
    "name": "ipython",
    "version": 3
   },
   "file_extension": ".py",
   "mimetype": "text/x-python",
   "name": "python",
   "nbconvert_exporter": "python",
   "pygments_lexer": "ipython3",
   "version": "3.9.4"
  }
 },
 "nbformat": 4,
 "nbformat_minor": 5
}
